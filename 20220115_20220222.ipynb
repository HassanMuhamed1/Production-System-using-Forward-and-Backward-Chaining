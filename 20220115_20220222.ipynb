{
 "cells": [
  {
   "cell_type": "code",
   "execution_count": 1,
   "id": "3a289da1",
   "metadata": {
    "ExecuteTime": {
     "end_time": "2025-05-09T11:26:51.736739Z",
     "start_time": "2025-05-09T11:26:51.732937Z"
    },
    "id": "3a289da1"
   },
   "outputs": [],
   "source": [
    "import re\n",
    "\n",
    "def parse_facts(file_path):\n",
    "    facts = {}\n",
    "    target = None\n",
    "    with open(file_path, 'r') as f:\n",
    "        for line in f:\n",
    "            line = line.strip()\n",
    "            if not line:\n",
    "                continue\n",
    "            if line.startswith(\"target:\"):\n",
    "                target_line = line[len(\"target:\"):].strip()\n",
    "                key, op, val = parse_condition(target_line)\n",
    "                target = (key, val)  # Only store key and expected value\n",
    "                continue\n",
    "            if '=' in line:\n",
    "                key, val = line.split('=')\n",
    "                try:\n",
    "                    facts[key.strip()] = int(val.strip())\n",
    "                except:\n",
    "                    facts[key.strip()] = val.strip()\n",
    "            elif 'is' in line:\n",
    "                key, val = line.split('is')\n",
    "                facts[key.strip()] = val.strip()\n",
    "            else:\n",
    "                facts[line.strip()] = True\n",
    "    return facts, target"
   ]
  },
  {
   "cell_type": "code",
   "execution_count": 2,
   "id": "011196c1",
   "metadata": {
    "ExecuteTime": {
     "end_time": "2025-05-09T11:26:51.782159Z",
     "start_time": "2025-05-09T11:26:51.778620Z"
    },
    "id": "011196c1"
   },
   "outputs": [],
   "source": [
    "def parse_condition(cond):\n",
    "    cond = cond.strip()\n",
    "    if '>=' in cond:\n",
    "        key, val = cond.split('>=')\n",
    "        return (key.strip(), '>=', float(val.strip()))\n",
    "    elif '<=' in cond:\n",
    "        key, val = cond.split('<=')\n",
    "        return (key.strip(), '<=', float(val.strip()))\n",
    "    if '>' in cond:\n",
    "        key, val = cond.split('>')\n",
    "        return (key.strip(), '>', float(val.strip()))\n",
    "    elif '<' in cond:\n",
    "        key, val = cond.split('<')\n",
    "        return (key.strip(), '<', float(val.strip()))\n",
    "    elif '=' in cond:\n",
    "        key, val = cond.split('=')\n",
    "        try:\n",
    "            return (key.strip(), '=', int(val.strip()))\n",
    "        except:\n",
    "            return (key.strip(), '=', val.strip())\n",
    "    elif 'is' in cond:\n",
    "        key, val = cond.split('is')\n",
    "        return (key.strip(), 'is', val.strip())\n",
    "    else:\n",
    "        return (cond.strip(), '==', True)\n"
   ]
  },
  {
   "cell_type": "code",
   "execution_count": 3,
   "id": "8c6c6ca8",
   "metadata": {
    "ExecuteTime": {
     "end_time": "2025-05-09T11:26:51.792975Z",
     "start_time": "2025-05-09T11:26:51.787502Z"
    },
    "id": "8c6c6ca8"
   },
   "outputs": [],
   "source": [
    "def parse_rules(file_path):\n",
    "    rules = []\n",
    "    with open(file_path, 'r') as f:\n",
    "        for line in f:\n",
    "            line = line.strip()\n",
    "            if not line or 'IF' not in line or 'THEN' not in line:\n",
    "                continue\n",
    "            cond_part, conclusion = line.split('THEN')\n",
    "            cond_part = cond_part.replace('IF', '').strip()\n",
    "            conclusion = conclusion.strip()\n",
    "\n",
    "            and_conditions = [c.strip() for c in re.split(r'\\bAND\\b', cond_part)]\n",
    "            condition_list = []\n",
    "            for cond in and_conditions:\n",
    "                if 'OR' in cond:\n",
    "                    or_parts = [c.strip() for c in cond.split('OR')]\n",
    "                    or_group = [parse_condition(c) for c in or_parts]\n",
    "                    condition_list.append(('OR', or_group))\n",
    "                else:\n",
    "                    condition_list.append(parse_condition(cond))\n",
    "            conclusion_parsed = parse_condition(conclusion)\n",
    "            rules.append((condition_list, conclusion_parsed))\n",
    "    return rules\n"
   ]
  },
  {
   "cell_type": "code",
   "execution_count": 4,
   "id": "c7c51e65",
   "metadata": {
    "ExecuteTime": {
     "end_time": "2025-05-09T11:26:51.802998Z",
     "start_time": "2025-05-09T11:26:51.799671Z"
    },
    "id": "c7c51e65"
   },
   "outputs": [],
   "source": [
    "def evaluate_condition(facts, cond):\n",
    "    key, op, val = cond\n",
    "    if key not in facts:\n",
    "        return False\n",
    "    try:\n",
    "        if op == '=' or op == 'is':\n",
    "            return facts[key] == val\n",
    "        elif op == '==':\n",
    "            return bool(facts[key])\n",
    "        elif op == '>':\n",
    "            return float(facts[key]) > float(val)\n",
    "        elif op == '<':\n",
    "            return float(facts[key]) < float(val)\n",
    "        elif op == '>=':\n",
    "            return float(facts[key]) >= float(val)\n",
    "        elif op == '<=':\n",
    "            return float(facts[key]) <= float(val)\n",
    "    except:\n",
    "        return False\n",
    "    return False\n"
   ]
  },
  {
   "cell_type": "code",
   "execution_count": 5,
   "id": "3b6731eb",
   "metadata": {
    "ExecuteTime": {
     "end_time": "2025-05-09T11:26:51.814023Z",
     "start_time": "2025-05-09T11:26:51.809710Z"
    },
    "id": "3b6731eb"
   },
   "outputs": [],
   "source": [
    "def evaluate_conditions(facts, conditions):\n",
    "    for cond in conditions:\n",
    "        if isinstance(cond, tuple) and cond[0] == 'OR':\n",
    "            if not any(evaluate_condition(facts, c) for c in cond[1]):\n",
    "                return False\n",
    "        else:\n",
    "            if not evaluate_condition(facts, cond):\n",
    "                return False\n",
    "    return True\n"
   ]
  },
  {
   "cell_type": "code",
   "execution_count": 6,
   "id": "8609a855",
   "metadata": {
    "ExecuteTime": {
     "end_time": "2025-05-09T11:26:51.825406Z",
     "start_time": "2025-05-09T11:26:51.822385Z"
    },
    "id": "8609a855"
   },
   "outputs": [],
   "source": [
    "def forward_chaining(facts, rules, target=None):\n",
    "    changed = True\n",
    "    while changed:\n",
    "        changed = False\n",
    "        print(\"Current facts:\", facts)\n",
    "        for conditions, conclusion in rules:\n",
    "            key, op, val = conclusion\n",
    "            if key in facts and facts[key] == val:\n",
    "                continue\n",
    "            if evaluate_conditions(facts, conditions):\n",
    "                facts[key] = val\n",
    "                changed = True\n",
    "                if target and key == target[0] and facts[key] == target[1]:\n",
    "                    print(f\"\\nTarget reached: {key} \")\n",
    "                    return facts\n",
    "    return facts\n"
   ]
  },
  {
   "cell_type": "code",
   "execution_count": 7,
   "id": "106695b7",
   "metadata": {
    "ExecuteTime": {
     "end_time": "2025-05-09T11:26:51.841861Z",
     "start_time": "2025-05-09T11:26:51.837437Z"
    },
    "id": "106695b7"
   },
   "outputs": [],
   "source": [
    "facts, target = parse_facts('/Users/hassa/Desktop/Production-System-using-Forward-and-Backward-Chaining/facts.txt')\n",
    "rules = parse_rules('/Users/hassa/Desktop/Production-System-using-Forward-and-Backward-Chaining/rules.txt')"
   ]
  },
  {
   "cell_type": "code",
   "execution_count": 8,
   "id": "1a5164d1",
   "metadata": {
    "ExecuteTime": {
     "end_time": "2025-05-09T11:26:51.866866Z",
     "start_time": "2025-05-09T11:26:51.863833Z"
    },
    "colab": {
     "base_uri": "https://localhost:8080/"
    },
    "id": "1a5164d1",
    "outputId": "fafd5f06-b99d-46e8-a895-0460594fc54f"
   },
   "outputs": [
    {
     "name": "stdout",
     "output_type": "stream",
     "text": [
      "\n",
      "--- Forward Chaining ---\n",
      "Current facts: {'seeds': 0, 'diameter': 7, 'skin_smell': True, 'color': 'orange'}\n",
      "Current facts: {'seeds': 0, 'diameter': 7, 'skin_smell': True, 'color': 'orange', 'perfumed': True, 'size': 'medium'}\n",
      "Current facts: {'seeds': 0, 'diameter': 7, 'skin_smell': True, 'color': 'orange', 'perfumed': True, 'size': 'medium', 'fruit': 'orange'}\n",
      "\n",
      "Target reached: citrus_fruit \n",
      "\n",
      "Final inferred facts:\n",
      "seeds = 0\n",
      "diameter = 7\n",
      "skin_smell = True\n",
      "color = orange\n",
      "perfumed = True\n",
      "size = medium\n",
      "fruit = orange\n",
      "citrus_fruit = True\n"
     ]
    }
   ],
   "source": [
    "print(\"\\n--- Forward Chaining ---\")\n",
    "final_facts = forward_chaining(facts, rules, target)\n",
    "\n",
    "print(\"\\nFinal inferred facts:\")\n",
    "for fact in final_facts:\n",
    "    print(f\"{fact} = {final_facts[fact]}\")"
   ]
  },
  {
   "cell_type": "code",
   "execution_count": 9,
   "id": "b094faab",
   "metadata": {},
   "outputs": [],
   "source": [
    "def backward_chaining(facts, rules, target, depth=0, visited=None):\n",
    "    indent = \"  \" * depth\n",
    "    target_key, target_val = target\n",
    "    \n",
    "    print(f\"{indent}Trying to prove: {target_key} = {target_val}\")\n",
    "    \n",
    "    # Check if target is already in facts\n",
    "    if target_key in facts:\n",
    "        result = facts[target_key] == target_val\n",
    "        print(f\"{indent} Known: {target_key} = {facts[target_key]}\")\n",
    "        return result\n",
    "    \n",
    "    # Initialize visited set to prevent infinite recursion\n",
    "    if visited is None:\n",
    "        visited = set()\n",
    "    \n",
    "    # Prevent infinite recursion\n",
    "    target_str = f\"{target_key}={target_val}\"\n",
    "    if target_str in visited:\n",
    "        print(f\"{indent} Loop detected: {target_str}\")\n",
    "        return False\n",
    "    visited.add(target_str)\n",
    "    \n",
    "    # Try each relevant rule\n",
    "    for i, (conditions, conclusion) in enumerate(rules):\n",
    "        if conclusion[0] == target_key and conclusion[2] == target_val:\n",
    "            print(f\"{indent}Checking rule {i+1}\")\n",
    "            \n",
    "            # Process each condition\n",
    "            all_met = True\n",
    "            temp_facts = facts.copy()\n",
    "            \n",
    "            for condition in conditions:\n",
    "                if isinstance(condition, tuple) and condition[0] == 'OR':\n",
    "                    # Handle OR conditions\n",
    "                    or_conditions = condition[1]\n",
    "                    print(f\"{indent}  Checking OR condition\")\n",
    "                    or_met = False\n",
    "                    \n",
    "                    for or_cond in or_conditions:\n",
    "                        cond_key, _, cond_val = or_cond\n",
    "                        if cond_key in temp_facts and evaluate_condition(temp_facts, or_cond):\n",
    "                            or_met = True\n",
    "                            break\n",
    "                        elif backward_chaining(temp_facts, rules, (cond_key, cond_val), depth+1, visited.copy()):\n",
    "                            or_met = True\n",
    "                            break\n",
    "                    \n",
    "                    if not or_met:\n",
    "                        all_met = False\n",
    "                        break\n",
    "                else:\n",
    "                    # Handle regular condition\n",
    "                    cond_key, _, cond_val = condition\n",
    "                    if cond_key in temp_facts and evaluate_condition(temp_facts, condition):\n",
    "                        continue\n",
    "                    elif not backward_chaining(temp_facts, rules, (cond_key, cond_val), depth+1, visited.copy()):\n",
    "                        all_met = False\n",
    "                        break\n",
    "            \n",
    "            if all_met:\n",
    "                facts.update(temp_facts)\n",
    "                facts[conclusion[0]] = conclusion[2]\n",
    "                print(f\"{indent} Rule fired: {conclusion[0]} = {conclusion[2]}\")\n",
    "                return True\n",
    "    \n",
    "    print(f\"{indent} Failed to prove: {target_key} = {target_val}\")\n",
    "    return False"
   ]
  },
  {
   "cell_type": "code",
   "execution_count": 10,
   "id": "gcNrObNBwfD4",
   "metadata": {
    "ExecuteTime": {
     "end_time": "2025-05-09T11:26:51.965589Z",
     "start_time": "2025-05-09T11:26:51.961389Z"
    },
    "colab": {
     "base_uri": "https://localhost:8080/"
    },
    "id": "gcNrObNBwfD4",
    "outputId": "86744260-797b-4095-e117-b88e2a85be12"
   },
   "outputs": [
    {
     "name": "stdout",
     "output_type": "stream",
     "text": [
      "\n",
      "--- Backward Chaining ---\n",
      "Trying to prove: citrus_fruit = True\n",
      "Checking rule 5\n",
      "  Checking OR condition\n",
      "  Trying to prove: fruit = lemon\n",
      "  Checking rule 6\n",
      "    Trying to prove: size = medium\n",
      "    Checking rule 13\n",
      "     Rule fired: size = medium\n",
      "    Trying to prove: color = yellow\n",
      "     Known: color = orange\n",
      "   Failed to prove: fruit = lemon\n",
      "  Trying to prove: fruit = orange\n",
      "  Checking rule 9\n",
      "    Trying to prove: perfumed = True\n",
      "    Checking rule 4\n",
      "     Rule fired: perfumed = True\n",
      "    Trying to prove: size = medium\n",
      "    Checking rule 13\n",
      "     Rule fired: size = medium\n",
      "   Rule fired: fruit = orange\n",
      " Rule fired: citrus_fruit = True\n",
      "\n",
      "Target 'citrus_fruit = True' inferred: True\n",
      "\n",
      "Final facts after inference:\n",
      "citrus_fruit = True\n",
      "color = orange\n",
      "diameter = 7\n",
      "fruit = orange\n",
      "perfumed = True\n",
      "seeds = 0\n",
      "size = medium\n",
      "skin_smell = True\n"
     ]
    }
   ],
   "source": [
    "# Parse facts and rules using your existing functions\n",
    "facts, target = parse_facts('/Users/hassa/Desktop/Production-System-using-Forward-and-Backward-Chaining/facts.txt')\n",
    "rules = parse_rules('/Users/hassa/Desktop/Production-System-using-Forward-and-Backward-Chaining/rules.txt')\n",
    "print(\"\\n--- Backward Chaining ---\")\n",
    "# Don't use facts.copy() here - use the original facts dictionary\n",
    "result = backward_chaining(facts, rules, (target[0], target[1]))\n",
    "print(f\"\\nTarget '{target[0]} = {target[1]}' inferred: {result}\")\n",
    "print(\"\\nFinal facts after inference:\")\n",
    "for key, value in sorted(facts.items()):\n",
    "    print(f\"{key} = {value}\")"
   ]
  }
 ],
 "metadata": {
  "colab": {
   "provenance": []
  },
  "kernelspec": {
   "display_name": "Python 3",
   "language": "python",
   "name": "python3"
  },
  "language_info": {
   "codemirror_mode": {
    "name": "ipython",
    "version": 3
   },
   "file_extension": ".py",
   "mimetype": "text/x-python",
   "name": "python",
   "nbconvert_exporter": "python",
   "pygments_lexer": "ipython3",
   "version": "3.12.3"
  }
 },
 "nbformat": 4,
 "nbformat_minor": 5
}

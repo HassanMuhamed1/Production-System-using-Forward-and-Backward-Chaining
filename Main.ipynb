{
 "cells": [
  {
   "cell_type": "code",
   "id": "7208aaa2",
   "metadata": {
    "id": "7208aaa2",
    "ExecuteTime": {
     "end_time": "2025-05-09T11:26:51.728841Z",
     "start_time": "2025-05-09T11:26:51.724856Z"
    }
   },
   "source": [
    "import sys\n",
    "import pprint\n",
    "\n",
    "sys.setrecursionlimit(10000)  # if needed\n",
    "pp = pprint.PrettyPrinter(depth=6, width=120)\n",
    "# pp.pprint(large_object)"
   ],
   "outputs": [],
   "execution_count": 1
  },
  {
   "cell_type": "code",
   "id": "3a289da1",
   "metadata": {
    "id": "3a289da1",
    "ExecuteTime": {
     "end_time": "2025-05-09T11:26:51.736739Z",
     "start_time": "2025-05-09T11:26:51.732937Z"
    }
   },
   "source": [
    "import re\n",
    "\n",
    "def parse_facts(file_path):\n",
    "    facts = {}\n",
    "    target = None\n",
    "    with open(file_path, 'r') as f:\n",
    "        for line in f:\n",
    "            line = line.strip()\n",
    "            if not line:\n",
    "                continue\n",
    "            if line.startswith(\"target:\"):\n",
    "                target_line = line[len(\"target:\"):].strip()\n",
    "                key, op, val = parse_condition(target_line)\n",
    "                target = (key, val)  # Only store key and expected value\n",
    "                continue\n",
    "            if '=' in line:\n",
    "                key, val = line.split('=')\n",
    "                try:\n",
    "                    facts[key.strip()] = int(val.strip())\n",
    "                except:\n",
    "                    facts[key.strip()] = val.strip()\n",
    "            elif 'is' in line:\n",
    "                key, val = line.split('is')\n",
    "                facts[key.strip()] = val.strip()\n",
    "            else:\n",
    "                facts[line.strip()] = True\n",
    "    return facts, target"
   ],
   "outputs": [],
   "execution_count": 2
  },
  {
   "cell_type": "code",
   "id": "011196c1",
   "metadata": {
    "id": "011196c1",
    "ExecuteTime": {
     "end_time": "2025-05-09T11:26:51.782159Z",
     "start_time": "2025-05-09T11:26:51.778620Z"
    }
   },
   "source": [
    "def parse_condition(cond):\n",
    "    cond = cond.strip()\n",
    "    if '>=' in cond:\n",
    "        key, val = cond.split('>=')\n",
    "        return (key.strip(), '>=', float(val.strip()))\n",
    "    elif '<=' in cond:\n",
    "        key, val = cond.split('<=')\n",
    "        return (key.strip(), '<=', float(val.strip()))\n",
    "    if '>' in cond:\n",
    "        key, val = cond.split('>')\n",
    "        return (key.strip(), '>', float(val.strip()))\n",
    "    elif '<' in cond:\n",
    "        key, val = cond.split('<')\n",
    "        return (key.strip(), '<', float(val.strip()))\n",
    "    elif '=' in cond:\n",
    "        key, val = cond.split('=')\n",
    "        try:\n",
    "            return (key.strip(), '=', int(val.strip()))\n",
    "        except:\n",
    "            return (key.strip(), '=', val.strip())\n",
    "    elif 'is' in cond:\n",
    "        key, val = cond.split('is')\n",
    "        return (key.strip(), 'is', val.strip())\n",
    "    else:\n",
    "        return (cond.strip(), '==', True)\n"
   ],
   "outputs": [],
   "execution_count": 3
  },
  {
   "cell_type": "code",
   "id": "8c6c6ca8",
   "metadata": {
    "id": "8c6c6ca8",
    "ExecuteTime": {
     "end_time": "2025-05-09T11:26:51.792975Z",
     "start_time": "2025-05-09T11:26:51.787502Z"
    }
   },
   "source": [
    "def parse_rules(file_path):\n",
    "    rules = []\n",
    "    with open(file_path, 'r') as f:\n",
    "        for line in f:\n",
    "            line = line.strip()\n",
    "            if not line or 'IF' not in line or 'THEN' not in line:\n",
    "                continue\n",
    "            cond_part, conclusion = line.split('THEN')\n",
    "            cond_part = cond_part.replace('IF', '').strip()\n",
    "            conclusion = conclusion.strip()\n",
    "\n",
    "            and_conditions = [c.strip() for c in re.split(r'\\bAND\\b', cond_part)]\n",
    "            condition_list = []\n",
    "            for cond in and_conditions:\n",
    "                if 'OR' in cond:\n",
    "                    or_parts = [c.strip() for c in cond.split('OR')]\n",
    "                    or_group = [parse_condition(c) for c in or_parts]\n",
    "                    condition_list.append(('OR', or_group))\n",
    "                else:\n",
    "                    condition_list.append(parse_condition(cond))\n",
    "            conclusion_parsed = parse_condition(conclusion)\n",
    "            rules.append((condition_list, conclusion_parsed))\n",
    "    return rules\n"
   ],
   "outputs": [],
   "execution_count": 4
  },
  {
   "cell_type": "code",
   "id": "c7c51e65",
   "metadata": {
    "id": "c7c51e65",
    "ExecuteTime": {
     "end_time": "2025-05-09T11:26:51.802998Z",
     "start_time": "2025-05-09T11:26:51.799671Z"
    }
   },
   "source": [
    "def evaluate_condition(facts, cond):\n",
    "    key, op, val = cond\n",
    "    if key not in facts:\n",
    "        return False\n",
    "    try:\n",
    "        if op == '=' or op == 'is':\n",
    "            return facts[key] == val\n",
    "        elif op == '==':\n",
    "            return bool(facts[key])\n",
    "        elif op == '>':\n",
    "            return float(facts[key]) > float(val)\n",
    "        elif op == '<':\n",
    "            return float(facts[key]) < float(val)\n",
    "        elif op == '>=':\n",
    "            return float(facts[key]) >= float(val)\n",
    "        elif op == '<=':\n",
    "            return float(facts[key]) <= float(val)\n",
    "    except:\n",
    "        return False\n",
    "    return False\n"
   ],
   "outputs": [],
   "execution_count": 5
  },
  {
   "cell_type": "code",
   "id": "3b6731eb",
   "metadata": {
    "id": "3b6731eb",
    "ExecuteTime": {
     "end_time": "2025-05-09T11:26:51.814023Z",
     "start_time": "2025-05-09T11:26:51.809710Z"
    }
   },
   "source": [
    "def evaluate_conditions(facts, conditions):\n",
    "    for cond in conditions:\n",
    "        if isinstance(cond, tuple) and cond[0] == 'OR':\n",
    "            if not any(evaluate_condition(facts, c) for c in cond[1]):\n",
    "                return False\n",
    "        else:\n",
    "            if not evaluate_condition(facts, cond):\n",
    "                return False\n",
    "    return True\n"
   ],
   "outputs": [],
   "execution_count": 6
  },
  {
   "cell_type": "code",
   "id": "8609a855",
   "metadata": {
    "id": "8609a855",
    "ExecuteTime": {
     "end_time": "2025-05-09T11:26:51.825406Z",
     "start_time": "2025-05-09T11:26:51.822385Z"
    }
   },
   "source": [
    "def forward_chaining(facts, rules, target=None):\n",
    "    changed = True\n",
    "    while changed:\n",
    "        changed = False\n",
    "        print(\"Current facts:\", facts)\n",
    "        for conditions, conclusion in rules:\n",
    "            key, op, val = conclusion\n",
    "            if key in facts and facts[key] == val:\n",
    "                continue\n",
    "            if evaluate_conditions(facts, conditions):\n",
    "                facts[key] = val\n",
    "                changed = True\n",
    "                if target and key == target[0] and facts[key] == target[1]:\n",
    "                    print(f\"\\nTarget reached: {key} \")\n",
    "                    return facts\n",
    "    return facts\n"
   ],
   "outputs": [],
   "execution_count": 7
  },
  {
   "cell_type": "code",
   "id": "106695b7",
   "metadata": {
    "id": "106695b7",
    "ExecuteTime": {
     "end_time": "2025-05-09T11:26:51.841861Z",
     "start_time": "2025-05-09T11:26:51.837437Z"
    }
   },
   "source": [
    "facts, target = parse_facts('/Users/mac/Desktop/FCAI/reasoning/facts.txt')\n",
    "rules = parse_rules('/Users/mac/Desktop/FCAI/reasoning/rules.txt')"
   ],
   "outputs": [],
   "execution_count": 8
  },
  {
   "cell_type": "code",
   "id": "1a5164d1",
   "metadata": {
    "colab": {
     "base_uri": "https://localhost:8080/"
    },
    "id": "1a5164d1",
    "outputId": "fafd5f06-b99d-46e8-a895-0460594fc54f",
    "ExecuteTime": {
     "end_time": "2025-05-09T11:26:51.866866Z",
     "start_time": "2025-05-09T11:26:51.863833Z"
    }
   },
   "source": [
    "print(\"\\n--- Forward Chaining ---\")\n",
    "final_facts = forward_chaining(facts, rules, target)\n",
    "\n",
    "print(\"\\nFinal inferred facts:\")\n",
    "for fact in final_facts:\n",
    "    print(f\"{fact} = {final_facts[fact]}\")"
   ],
   "outputs": [
    {
     "name": "stdout",
     "output_type": "stream",
     "text": [
      "\n",
      "--- Forward Chaining ---\n",
      "Current facts: {'seeds': 0, 'diameter': 7, 'skin_smell': True, 'color': 'orange'}\n",
      "Current facts: {'seeds': 0, 'diameter': 7, 'skin_smell': True, 'color': 'orange', 'perfumed': True, 'size': 'medium'}\n",
      "Current facts: {'seeds': 0, 'diameter': 7, 'skin_smell': True, 'color': 'orange', 'perfumed': True, 'size': 'medium', 'fruit': 'orange'}\n",
      "\n",
      "Target reached: citrus_fruit \n",
      "\n",
      "Final inferred facts:\n",
      "seeds = 0\n",
      "diameter = 7\n",
      "skin_smell = True\n",
      "color = orange\n",
      "perfumed = True\n",
      "size = medium\n",
      "fruit = orange\n",
      "citrus_fruit = True\n"
     ]
    }
   ],
   "execution_count": 9
  },
  {
   "cell_type": "code",
   "id": "bZ9q24gouTfi",
   "metadata": {
    "id": "bZ9q24gouTfi",
    "ExecuteTime": {
     "end_time": "2025-05-09T11:26:51.940966Z",
     "start_time": "2025-05-09T11:26:51.931086Z"
    }
   },
   "source": [
    "def backward_chaining(facts, rules, target, depth=0, visited=None):\n",
    "    \"\"\"\n",
    "    Backward chaining algorithm compatible with existing functions\n",
    "\n",
    "    Args:\n",
    "        facts: Dictionary of known facts\n",
    "        rules: List of rules in the format [(conditions, conclusion), ...]\n",
    "        target: Tuple (key, value) representing the target to prove\n",
    "        depth: Current recursion depth (for indentation)\n",
    "        visited: Set of visited targets to prevent infinite recursion\n",
    "\n",
    "    Returns:\n",
    "        Boolean indicating if target was proven\n",
    "    \"\"\"\n",
    "    indent = \"  \" * depth\n",
    "    target_key, target_val = target\n",
    "\n",
    "    print(f\"{indent}Trying to prove: {target_key} = {target_val}\")\n",
    "\n",
    "    # Check if target is already in facts\n",
    "    if target_key in facts:\n",
    "        if facts[target_key] == target_val:\n",
    "            print(f\"{indent}✓ Already known: {target_key} = {facts[target_key]}\")\n",
    "            return True\n",
    "        else:\n",
    "            print(f\"{indent}× Known but with different value: {target_key} = {facts[target_key]} (needed {target_val})\")\n",
    "            return False\n",
    "\n",
    "    # Initialize visited set to prevent infinite recursion\n",
    "    if visited is None:\n",
    "        visited = set()\n",
    "\n",
    "    # Prevent infinite recursion\n",
    "    target_repr = f\"{target_key}={target_val}\"\n",
    "    if target_repr in visited:\n",
    "        print(f\"{indent}× Already visited: {target_repr} (avoiding loop)\")\n",
    "        return False\n",
    "\n",
    "    visited.add(target_repr)\n",
    "    print(f\"{indent}Searching rules for conclusion: {target_key}\")\n",
    "\n",
    "    # Find rules that have our target in the conclusion\n",
    "    relevant_rules = []\n",
    "    for i, (conditions, conclusion) in enumerate(rules):\n",
    "        conclusion_key, conclusion_op, conclusion_val = conclusion\n",
    "\n",
    "        # Check if this rule concludes our target\n",
    "        if conclusion_key == target_key and conclusion_val == target_val:\n",
    "            relevant_rules.append((i, conditions, conclusion))\n",
    "\n",
    "    # Try each relevant rule\n",
    "    for rule_index, conditions, conclusion in relevant_rules:\n",
    "        conclusion_key, conclusion_op, conclusion_val = conclusion\n",
    "\n",
    "        print(f\"{indent}Found rule {rule_index+1} with conclusion: {conclusion_key} {conclusion_op} {conclusion_val}\")\n",
    "\n",
    "        # Print the conditions we need to check\n",
    "        print(f\"{indent}Checking conditions:\")\n",
    "        conditions_met = True\n",
    "\n",
    "        # Check each condition\n",
    "        for condition in conditions:\n",
    "            if isinstance(condition, tuple) and condition[0] == 'OR':\n",
    "                # Handle OR conditions\n",
    "                print(f\"{indent}  Checking OR conditions:\")\n",
    "                or_conditions = condition[1]\n",
    "                or_satisfied = False\n",
    "\n",
    "                for or_cond in or_conditions:\n",
    "                    cond_key, cond_op, cond_val = or_cond\n",
    "                    print(f\"{indent}    Checking: {cond_key} {cond_op} {cond_val}\")\n",
    "\n",
    "                    if cond_key in facts:\n",
    "                        # Condition is already in facts, check if it's satisfied\n",
    "                        if evaluate_condition(facts, or_cond):\n",
    "                            print(f\"{indent}    ✓ Condition already satisfied: {cond_key} = {facts[cond_key]}\")\n",
    "                            or_satisfied = True\n",
    "                            break\n",
    "                        else:\n",
    "                            print(f\"{indent}    × Condition not satisfied: {cond_key} = {facts[cond_key]}\")\n",
    "                    else:\n",
    "                        # Try to prove this condition recursively\n",
    "                        print(f\"{indent}    Need to prove: {cond_key} = {cond_val}\")\n",
    "                        if backward_chaining(facts, rules, (cond_key, cond_val), depth+1, visited.copy()):\n",
    "                            print(f\"{indent}    ✓ Successfully proved: {cond_key} = {facts[cond_key]}\")\n",
    "                            or_satisfied = True\n",
    "                            break\n",
    "                        else:\n",
    "                            print(f\"{indent}    × Failed to prove: {cond_key} = {cond_val}\")\n",
    "\n",
    "                if not or_satisfied:\n",
    "                    print(f\"{indent}  × No OR conditions were satisfied\")\n",
    "                    conditions_met = False\n",
    "                    break\n",
    "                else:\n",
    "                    print(f\"{indent}  ✓ OR condition satisfied\")\n",
    "            else:\n",
    "                # Handle regular condition\n",
    "                cond_key, cond_op, cond_val = condition\n",
    "                print(f\"{indent}  Checking: {cond_key} {cond_op} {cond_val}\")\n",
    "\n",
    "                if cond_key in facts:\n",
    "                    # Condition is already in facts, check if it's satisfied\n",
    "                    if evaluate_condition(facts, condition):\n",
    "                        print(f\"{indent}  ✓ Condition already satisfied: {cond_key} = {facts[cond_key]}\")\n",
    "                    else:\n",
    "                        print(f\"{indent}  × Condition not satisfied: {cond_key} = {facts[cond_key]}\")\n",
    "                        conditions_met = False\n",
    "                        break\n",
    "                else:\n",
    "                    # Try to prove this condition recursively\n",
    "                    print(f\"{indent}  Need to prove: {cond_key} = {cond_val}\")\n",
    "                    if not backward_chaining(facts, rules, (cond_key, cond_val), depth+1, visited.copy()):\n",
    "                        print(f\"{indent}  × Failed to prove: {cond_key} = {cond_val}\")\n",
    "                        conditions_met = False\n",
    "                        break\n",
    "                    else:\n",
    "                        print(f\"{indent}  ✓ Successfully proved: {cond_key} = {facts[cond_key]}\")\n",
    "\n",
    "        # If all conditions are met, add the conclusion to facts\n",
    "        if conditions_met:\n",
    "            facts[conclusion_key] = conclusion_val\n",
    "            print(f\"{indent}✓ Rule fired! Added: {conclusion_key} = {conclusion_val}\")\n",
    "            return True\n",
    "\n",
    "    print(f\"{indent}× Could not prove: {target_key} = {target_val}\")\n",
    "    return False"
   ],
   "outputs": [],
   "execution_count": 10
  },
  {
   "cell_type": "code",
   "id": "gcNrObNBwfD4",
   "metadata": {
    "colab": {
     "base_uri": "https://localhost:8080/"
    },
    "id": "gcNrObNBwfD4",
    "outputId": "86744260-797b-4095-e117-b88e2a85be12",
    "ExecuteTime": {
     "end_time": "2025-05-09T11:26:51.965589Z",
     "start_time": "2025-05-09T11:26:51.961389Z"
    }
   },
   "source": [
    "# Parse facts and rules using your existing functions\n",
    "facts, target = parse_facts('/Users/mac/Desktop/FCAI/reasoning/facts.txt')\n",
    "rules = parse_rules('/Users/mac/Desktop/FCAI/reasoning/rules.txt')\n",
    "print(\"Initial facts:\")\n",
    "# for key, value in facts.items():\n",
    "#     print(f\"{key} = {value}\")\n",
    "# print(f\"\\nTarget to prove: {target[0]} = {target[1]}\\n\")\n",
    "# # Print the parsed rules for clarity\n",
    "# print(\"Rules:\")\n",
    "# for i, (conditions, conclusion) in enumerate(rules):\n",
    "#     cond_str = []\n",
    "#     for c in conditions:\n",
    "#         if isinstance(c, tuple) and c[0] == 'OR':\n",
    "#             or_parts = [f\"{key} {op} {val}\" for key, op, val in c[1]]\n",
    "#             cond_str.append(f\"({' OR '.join(or_parts)})\")\n",
    "#         else:\n",
    "#             key, op, val = c\n",
    "#             cond_str.append(f\"{key} {op} {val}\")\n",
    "#     key, op, val = conclusion\n",
    "#     print(f\"Rule {i+1}: IF {' AND '.join(cond_str)} THEN {key} {op} {val}\")\n",
    "print(\"\\n--- Backward Chaining ---\")\n",
    "# Don't use facts.copy() here - use the original facts dictionary\n",
    "result = backward_chaining(facts, rules, (target[0], target[1]))\n",
    "print(f\"\\nTarget '{target[0]} = {target[1]}' inferred: {result}\")\n",
    "print(\"\\nFinal facts after inference:\")\n",
    "for key, value in sorted(facts.items()):\n",
    "    print(f\"{key} = {value}\")"
   ],
   "outputs": [
    {
     "name": "stdout",
     "output_type": "stream",
     "text": [
      "Initial facts:\n",
      "\n",
      "--- Backward Chaining ---\n",
      "Trying to prove: citrus_fruit = True\n",
      "Searching rules for conclusion: citrus_fruit\n",
      "Found rule 5 with conclusion: citrus_fruit == True\n",
      "Checking conditions:\n",
      "  Checking OR conditions:\n",
      "    Checking: fruit is lemon\n",
      "    Need to prove: fruit = lemon\n",
      "  Trying to prove: fruit = lemon\n",
      "  Searching rules for conclusion: fruit\n",
      "  Found rule 6 with conclusion: fruit is lemon\n",
      "  Checking conditions:\n",
      "    Checking: size is medium\n",
      "    Need to prove: size = medium\n",
      "    Trying to prove: size = medium\n",
      "    Searching rules for conclusion: size\n",
      "    Found rule 13 with conclusion: size is medium\n",
      "    Checking conditions:\n",
      "      Checking: diameter > 2.0\n",
      "      ✓ Condition already satisfied: diameter = 7\n",
      "      Checking: diameter < 10.0\n",
      "      ✓ Condition already satisfied: diameter = 7\n",
      "    ✓ Rule fired! Added: size = medium\n",
      "    ✓ Successfully proved: size = medium\n",
      "    Checking: color is yellow\n",
      "    × Condition not satisfied: color = orange\n",
      "  × Could not prove: fruit = lemon\n",
      "    × Failed to prove: fruit = lemon\n",
      "    Checking: fruit is orange\n",
      "    Need to prove: fruit = orange\n",
      "  Trying to prove: fruit = orange\n",
      "  Searching rules for conclusion: fruit\n",
      "  Found rule 9 with conclusion: fruit is orange\n",
      "  Checking conditions:\n",
      "    Checking: perfumed == True\n",
      "    Need to prove: perfumed = True\n",
      "    Trying to prove: perfumed = True\n",
      "    Searching rules for conclusion: perfumed\n",
      "    Found rule 4 with conclusion: perfumed == True\n",
      "    Checking conditions:\n",
      "      Checking: skin_smell == True\n",
      "      ✓ Condition already satisfied: skin_smell = True\n",
      "    ✓ Rule fired! Added: perfumed = True\n",
      "    ✓ Successfully proved: perfumed = True\n",
      "    Checking: color is orange\n",
      "    ✓ Condition already satisfied: color = orange\n",
      "    Checking: size is medium\n",
      "    ✓ Condition already satisfied: size = medium\n",
      "  ✓ Rule fired! Added: fruit = orange\n",
      "    ✓ Successfully proved: fruit = orange\n",
      "  ✓ OR condition satisfied\n",
      "✓ Rule fired! Added: citrus_fruit = True\n",
      "\n",
      "Target 'citrus_fruit = True' inferred: True\n",
      "\n",
      "Final facts after inference:\n",
      "citrus_fruit = True\n",
      "color = orange\n",
      "diameter = 7\n",
      "fruit = orange\n",
      "perfumed = True\n",
      "seeds = 0\n",
      "size = medium\n",
      "skin_smell = True\n"
     ]
    }
   ],
   "execution_count": 11
  },
  {
   "cell_type": "code",
   "id": "gXjKphtGwh7d",
   "metadata": {
    "id": "gXjKphtGwh7d",
    "ExecuteTime": {
     "end_time": "2025-05-09T11:26:52.015541Z",
     "start_time": "2025-05-09T11:26:52.012809Z"
    }
   },
   "source": [],
   "outputs": [],
   "execution_count": null
  }
 ],
 "metadata": {
  "colab": {
   "provenance": []
  },
  "kernelspec": {
   "display_name": "Python 3 (ipykernel)",
   "language": "python",
   "name": "python3"
  }
 },
 "nbformat": 4,
 "nbformat_minor": 5
}
